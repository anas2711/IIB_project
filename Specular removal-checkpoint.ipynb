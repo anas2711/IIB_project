{
 "cells": [
  {
   "cell_type": "code",
   "execution_count": 5,
   "id": "6c3d1c3b",
   "metadata": {
    "scrolled": true
   },
   "outputs": [
    {
     "ename": "TypeError",
     "evalue": "'numpy._DTypeMeta' object is not subscriptable",
     "output_type": "error",
     "traceback": [
      "\u001b[1;31m---------------------------------------------------------------------------\u001b[0m",
      "\u001b[1;31mTypeError\u001b[0m                                 Traceback (most recent call last)",
      "\u001b[1;32mC:\\Users\\ANASTO~1\\AppData\\Local\\Temp/ipykernel_15840/1229781122.py\u001b[0m in \u001b[0;36m<module>\u001b[1;34m\u001b[0m\n\u001b[0;32m      1\u001b[0m \u001b[1;31m#import image from the computer\u001b[0m\u001b[1;33m\u001b[0m\u001b[1;33m\u001b[0m\u001b[0m\n\u001b[1;32m----> 2\u001b[1;33m \u001b[1;32mimport\u001b[0m \u001b[0mcv2\u001b[0m \u001b[1;32mas\u001b[0m \u001b[0mcv\u001b[0m\u001b[1;33m\u001b[0m\u001b[1;33m\u001b[0m\u001b[0m\n\u001b[0m\u001b[0;32m      3\u001b[0m \u001b[1;32mimport\u001b[0m \u001b[0mnumpy\u001b[0m \u001b[1;32mas\u001b[0m \u001b[0mnp\u001b[0m\u001b[1;33m\u001b[0m\u001b[1;33m\u001b[0m\u001b[0m\n\u001b[0;32m      4\u001b[0m \u001b[1;32mfrom\u001b[0m \u001b[0mmatplotlib\u001b[0m \u001b[1;32mimport\u001b[0m \u001b[0mpyplot\u001b[0m \u001b[1;32mas\u001b[0m \u001b[0mplt\u001b[0m\u001b[1;33m\u001b[0m\u001b[1;33m\u001b[0m\u001b[0m\n\u001b[0;32m      5\u001b[0m \u001b[1;32mimport\u001b[0m \u001b[0mimageio\u001b[0m\u001b[1;33m\u001b[0m\u001b[1;33m\u001b[0m\u001b[0m\n",
      "\u001b[1;32m~\\anaconda3\\lib\\site-packages\\cv2\\__init__.py\u001b[0m in \u001b[0;36m<module>\u001b[1;34m\u001b[0m\n\u001b[0;32m    179\u001b[0m \u001b[1;33m\u001b[0m\u001b[0m\n\u001b[0;32m    180\u001b[0m \u001b[1;33m\u001b[0m\u001b[0m\n\u001b[1;32m--> 181\u001b[1;33m \u001b[0mbootstrap\u001b[0m\u001b[1;33m(\u001b[0m\u001b[1;33m)\u001b[0m\u001b[1;33m\u001b[0m\u001b[1;33m\u001b[0m\u001b[0m\n\u001b[0m",
      "\u001b[1;32m~\\anaconda3\\lib\\site-packages\\cv2\\__init__.py\u001b[0m in \u001b[0;36mbootstrap\u001b[1;34m()\u001b[0m\n\u001b[0;32m    173\u001b[0m \u001b[1;33m\u001b[0m\u001b[0m\n\u001b[0;32m    174\u001b[0m     \u001b[1;32mfor\u001b[0m \u001b[0msubmodule\u001b[0m \u001b[1;32min\u001b[0m \u001b[0m__collect_extra_submodules\u001b[0m\u001b[1;33m(\u001b[0m\u001b[0mDEBUG\u001b[0m\u001b[1;33m)\u001b[0m\u001b[1;33m:\u001b[0m\u001b[1;33m\u001b[0m\u001b[1;33m\u001b[0m\u001b[0m\n\u001b[1;32m--> 175\u001b[1;33m         \u001b[1;32mif\u001b[0m \u001b[0m__load_extra_py_code_for_module\u001b[0m\u001b[1;33m(\u001b[0m\u001b[1;34m\"cv2\"\u001b[0m\u001b[1;33m,\u001b[0m \u001b[0msubmodule\u001b[0m\u001b[1;33m,\u001b[0m \u001b[0mDEBUG\u001b[0m\u001b[1;33m)\u001b[0m\u001b[1;33m:\u001b[0m\u001b[1;33m\u001b[0m\u001b[1;33m\u001b[0m\u001b[0m\n\u001b[0m\u001b[0;32m    176\u001b[0m             \u001b[1;32mif\u001b[0m \u001b[0mDEBUG\u001b[0m\u001b[1;33m:\u001b[0m \u001b[0mprint\u001b[0m\u001b[1;33m(\u001b[0m\u001b[1;34m\"Extra Python code for\"\u001b[0m\u001b[1;33m,\u001b[0m \u001b[0msubmodule\u001b[0m\u001b[1;33m,\u001b[0m \u001b[1;34m\"is loaded\"\u001b[0m\u001b[1;33m)\u001b[0m\u001b[1;33m\u001b[0m\u001b[1;33m\u001b[0m\u001b[0m\n\u001b[0;32m    177\u001b[0m \u001b[1;33m\u001b[0m\u001b[0m\n",
      "\u001b[1;32m~\\anaconda3\\lib\\site-packages\\cv2\\__init__.py\u001b[0m in \u001b[0;36m__load_extra_py_code_for_module\u001b[1;34m(base, name, enable_debug_print)\u001b[0m\n\u001b[0;32m     26\u001b[0m     \u001b[0mnative_module\u001b[0m \u001b[1;33m=\u001b[0m \u001b[0msys\u001b[0m\u001b[1;33m.\u001b[0m\u001b[0mmodules\u001b[0m\u001b[1;33m.\u001b[0m\u001b[0mpop\u001b[0m\u001b[1;33m(\u001b[0m\u001b[0mmodule_name\u001b[0m\u001b[1;33m,\u001b[0m \u001b[1;32mNone\u001b[0m\u001b[1;33m)\u001b[0m\u001b[1;33m\u001b[0m\u001b[1;33m\u001b[0m\u001b[0m\n\u001b[0;32m     27\u001b[0m     \u001b[1;32mtry\u001b[0m\u001b[1;33m:\u001b[0m\u001b[1;33m\u001b[0m\u001b[1;33m\u001b[0m\u001b[0m\n\u001b[1;32m---> 28\u001b[1;33m         \u001b[0mpy_module\u001b[0m \u001b[1;33m=\u001b[0m \u001b[0mimportlib\u001b[0m\u001b[1;33m.\u001b[0m\u001b[0mimport_module\u001b[0m\u001b[1;33m(\u001b[0m\u001b[0mmodule_name\u001b[0m\u001b[1;33m)\u001b[0m\u001b[1;33m\u001b[0m\u001b[1;33m\u001b[0m\u001b[0m\n\u001b[0m\u001b[0;32m     29\u001b[0m     \u001b[1;32mexcept\u001b[0m \u001b[0mImportError\u001b[0m \u001b[1;32mas\u001b[0m \u001b[0merr\u001b[0m\u001b[1;33m:\u001b[0m\u001b[1;33m\u001b[0m\u001b[1;33m\u001b[0m\u001b[0m\n\u001b[0;32m     30\u001b[0m         \u001b[1;32mif\u001b[0m \u001b[0menable_debug_print\u001b[0m\u001b[1;33m:\u001b[0m\u001b[1;33m\u001b[0m\u001b[1;33m\u001b[0m\u001b[0m\n",
      "\u001b[1;32m~\\anaconda3\\lib\\importlib\\__init__.py\u001b[0m in \u001b[0;36mimport_module\u001b[1;34m(name, package)\u001b[0m\n\u001b[0;32m    125\u001b[0m                 \u001b[1;32mbreak\u001b[0m\u001b[1;33m\u001b[0m\u001b[1;33m\u001b[0m\u001b[0m\n\u001b[0;32m    126\u001b[0m             \u001b[0mlevel\u001b[0m \u001b[1;33m+=\u001b[0m \u001b[1;36m1\u001b[0m\u001b[1;33m\u001b[0m\u001b[1;33m\u001b[0m\u001b[0m\n\u001b[1;32m--> 127\u001b[1;33m     \u001b[1;32mreturn\u001b[0m \u001b[0m_bootstrap\u001b[0m\u001b[1;33m.\u001b[0m\u001b[0m_gcd_import\u001b[0m\u001b[1;33m(\u001b[0m\u001b[0mname\u001b[0m\u001b[1;33m[\u001b[0m\u001b[0mlevel\u001b[0m\u001b[1;33m:\u001b[0m\u001b[1;33m]\u001b[0m\u001b[1;33m,\u001b[0m \u001b[0mpackage\u001b[0m\u001b[1;33m,\u001b[0m \u001b[0mlevel\u001b[0m\u001b[1;33m)\u001b[0m\u001b[1;33m\u001b[0m\u001b[1;33m\u001b[0m\u001b[0m\n\u001b[0m\u001b[0;32m    128\u001b[0m \u001b[1;33m\u001b[0m\u001b[0m\n\u001b[0;32m    129\u001b[0m \u001b[1;33m\u001b[0m\u001b[0m\n",
      "\u001b[1;32m~\\anaconda3\\lib\\site-packages\\cv2\\typing\\__init__.py\u001b[0m in \u001b[0;36m<module>\u001b[1;34m\u001b[0m\n\u001b[0;32m     67\u001b[0m \u001b[1;33m\u001b[0m\u001b[0m\n\u001b[0;32m     68\u001b[0m \u001b[1;32mif\u001b[0m \u001b[0mnumpy\u001b[0m\u001b[1;33m.\u001b[0m\u001b[0mlib\u001b[0m\u001b[1;33m.\u001b[0m\u001b[0mNumpyVersion\u001b[0m\u001b[1;33m(\u001b[0m\u001b[0mnumpy\u001b[0m\u001b[1;33m.\u001b[0m\u001b[0m__version__\u001b[0m\u001b[1;33m)\u001b[0m \u001b[1;33m>\u001b[0m \u001b[1;34m\"1.20.0\"\u001b[0m \u001b[1;32mand\u001b[0m \u001b[0msys\u001b[0m\u001b[1;33m.\u001b[0m\u001b[0mversion_info\u001b[0m \u001b[1;33m>=\u001b[0m \u001b[1;33m(\u001b[0m\u001b[1;36m3\u001b[0m\u001b[1;33m,\u001b[0m \u001b[1;36m9\u001b[0m\u001b[1;33m)\u001b[0m\u001b[1;33m:\u001b[0m\u001b[1;33m\u001b[0m\u001b[1;33m\u001b[0m\u001b[0m\n\u001b[1;32m---> 69\u001b[1;33m     \u001b[0mNumPyArrayGeneric\u001b[0m \u001b[1;33m=\u001b[0m \u001b[0mnumpy\u001b[0m\u001b[1;33m.\u001b[0m\u001b[0mndarray\u001b[0m\u001b[1;33m[\u001b[0m\u001b[0mtyping\u001b[0m\u001b[1;33m.\u001b[0m\u001b[0mAny\u001b[0m\u001b[1;33m,\u001b[0m \u001b[0mnumpy\u001b[0m\u001b[1;33m.\u001b[0m\u001b[0mdtype\u001b[0m\u001b[1;33m[\u001b[0m\u001b[0mnumpy\u001b[0m\u001b[1;33m.\u001b[0m\u001b[0mgeneric\u001b[0m\u001b[1;33m]\u001b[0m\u001b[1;33m]\u001b[0m\u001b[1;33m\u001b[0m\u001b[1;33m\u001b[0m\u001b[0m\n\u001b[0m\u001b[0;32m     70\u001b[0m \u001b[1;32melse\u001b[0m\u001b[1;33m:\u001b[0m\u001b[1;33m\u001b[0m\u001b[1;33m\u001b[0m\u001b[0m\n\u001b[0;32m     71\u001b[0m     \u001b[0mNumPyArrayGeneric\u001b[0m \u001b[1;33m=\u001b[0m \u001b[0mnumpy\u001b[0m\u001b[1;33m.\u001b[0m\u001b[0mndarray\u001b[0m\u001b[1;33m\u001b[0m\u001b[1;33m\u001b[0m\u001b[0m\n",
      "\u001b[1;31mTypeError\u001b[0m: 'numpy._DTypeMeta' object is not subscriptable"
     ]
    }
   ],
   "source": [
    "#import image from the computer\n",
    "import cv2 as cv\n",
    "import numpy as np\n",
    "from matplotlib import pyplot as plt\n",
    "import imageio\n",
    "from findpeaks import findpeaks\n",
    "\n",
    "from mpl_toolkits.mplot3d import Axes3D#\n",
    "import pandas as pd\n",
    "\n",
    "\n",
    "rgb_img = imageio.imread(\"C:/Users/Ana Stojanovic/OneDrive/Desktop/example_spec_removal.bmp\")\n",
    "plt.imshow(rgb_img)"
   ]
  },
  {
   "cell_type": "code",
   "execution_count": 3,
   "id": "a253e710",
   "metadata": {
    "scrolled": true
   },
   "outputs": [
    {
     "ename": "NameError",
     "evalue": "name 'np' is not defined",
     "output_type": "error",
     "traceback": [
      "\u001b[1;31m---------------------------------------------------------------------------\u001b[0m",
      "\u001b[1;31mNameError\u001b[0m                                 Traceback (most recent call last)",
      "\u001b[1;32mC:\\Users\\ANASTO~1\\AppData\\Local\\Temp/ipykernel_15840/1016390047.py\u001b[0m in \u001b[0;36m<module>\u001b[1;34m\u001b[0m\n\u001b[1;32m----> 1\u001b[1;33m \u001b[0mdiffuse_chrom_max\u001b[0m\u001b[1;33m=\u001b[0m \u001b[0mnp\u001b[0m\u001b[1;33m.\u001b[0m\u001b[0mzeros\u001b[0m\u001b[1;33m(\u001b[0m\u001b[1;33m(\u001b[0m\u001b[0mlen\u001b[0m\u001b[1;33m(\u001b[0m\u001b[0mrgb_img\u001b[0m\u001b[1;33m)\u001b[0m\u001b[1;33m,\u001b[0m\u001b[0mlen\u001b[0m\u001b[1;33m(\u001b[0m\u001b[0mrgb_img\u001b[0m\u001b[1;33m[\u001b[0m\u001b[1;36m0\u001b[0m\u001b[1;33m]\u001b[0m\u001b[1;33m)\u001b[0m\u001b[1;33m)\u001b[0m\u001b[1;33m)\u001b[0m\u001b[1;33m\u001b[0m\u001b[1;33m\u001b[0m\u001b[0m\n\u001b[0m\u001b[0;32m      2\u001b[0m \u001b[0mdiffuse_chrom_min\u001b[0m\u001b[1;33m=\u001b[0m \u001b[0mnp\u001b[0m\u001b[1;33m.\u001b[0m\u001b[0mzeros\u001b[0m\u001b[1;33m(\u001b[0m\u001b[1;33m(\u001b[0m\u001b[0mlen\u001b[0m\u001b[1;33m(\u001b[0m\u001b[0mrgb_img\u001b[0m\u001b[1;33m)\u001b[0m\u001b[1;33m,\u001b[0m\u001b[0mlen\u001b[0m\u001b[1;33m(\u001b[0m\u001b[0mrgb_img\u001b[0m\u001b[1;33m[\u001b[0m\u001b[1;36m0\u001b[0m\u001b[1;33m]\u001b[0m\u001b[1;33m)\u001b[0m\u001b[1;33m)\u001b[0m\u001b[1;33m)\u001b[0m\u001b[1;33m\u001b[0m\u001b[1;33m\u001b[0m\u001b[0m\n\u001b[0;32m      3\u001b[0m \u001b[0mI_psf\u001b[0m\u001b[1;33m=\u001b[0m \u001b[0mnp\u001b[0m\u001b[1;33m.\u001b[0m\u001b[0mzeros\u001b[0m\u001b[1;33m(\u001b[0m\u001b[1;33m(\u001b[0m\u001b[0mlen\u001b[0m\u001b[1;33m(\u001b[0m\u001b[0mrgb_img\u001b[0m\u001b[1;33m)\u001b[0m\u001b[1;33m,\u001b[0m\u001b[0mlen\u001b[0m\u001b[1;33m(\u001b[0m\u001b[0mrgb_img\u001b[0m\u001b[1;33m[\u001b[0m\u001b[1;36m0\u001b[0m\u001b[1;33m]\u001b[0m\u001b[1;33m)\u001b[0m\u001b[1;33m,\u001b[0m\u001b[1;36m3\u001b[0m\u001b[1;33m)\u001b[0m\u001b[1;33m)\u001b[0m\u001b[1;33m\u001b[0m\u001b[1;33m\u001b[0m\u001b[0m\n\u001b[0;32m      4\u001b[0m \u001b[1;33m\u001b[0m\u001b[0m\n\u001b[0;32m      5\u001b[0m \u001b[1;31m# compute minimum maximum and range values for each pixel\u001b[0m\u001b[1;33m\u001b[0m\u001b[1;33m\u001b[0m\u001b[0m\n",
      "\u001b[1;31mNameError\u001b[0m: name 'np' is not defined"
     ]
    }
   ],
   "source": [
    "diffuse_chrom_max= np.zeros((len(rgb_img),len(rgb_img[0])))\n",
    "diffuse_chrom_min= np.zeros((len(rgb_img),len(rgb_img[0])))\n",
    "I_psf= np.zeros((len(rgb_img),len(rgb_img[0]),3))\n",
    "    \n",
    "# compute minimum maximum and range values for each pixel\n",
    "for i in range(0, len(rgb_img)):\n",
    "    for j in range(0, len(rgb_img[0])):\n",
    "        red= rgb_img[i,j,0]\n",
    "        green= rgb_img[i,j,1]\n",
    "        blue= rgb_img[i,j,2]\n",
    "        diffuse_chrom_max[i,j]= max(red, green, blue)\n",
    "        diffuse_chrom_min[i,j]= min(red, green, blue)\n",
    "        #pseudo spec free image\n",
    "        \n",
    "        I_psf[i,j,:]= rgb_img[i,j,:] - (diffuse_chrom_min[i,j],diffuse_chrom_min[i,j],diffuse_chrom_min[i,j])\n",
    "\n",
    "plt.imshow(diffuse_chrom_max,cmap='gray')\n",
    "plt.title('diffuse_chrom_max')\n",
    "plt.colorbar()\n",
    "plt.figure()\n",
    "\n",
    "plt.imshow(diffuse_chrom_min,cmap='gray')\n",
    "plt.colorbar()\n",
    "plt.title('diffuse_chrom_min')"
   ]
  },
  {
   "cell_type": "code",
   "execution_count": null,
   "id": "c53d84bc",
   "metadata": {
    "scrolled": true
   },
   "outputs": [],
   "source": [
    "diffuse_chrom_range = diffuse_chrom_max - diffuse_chrom_min\n",
    "intensity_ratio= diffuse_chrom_max/ (diffuse_chrom_range +1)\n",
    "\n",
    "plt.imshow(diffuse_chrom_range,cmap='gray')\n",
    "plt.title('diffuse_chrom_range')\n",
    "plt.colorbar()\n",
    "plt.figure()\n",
    "\n",
    "plt.imshow(intensity_ratio,cmap='gray')\n",
    "plt.title('intensity ratio')\n",
    "plt.colorbar()\n",
    "plt.figure()"
   ]
  },
  {
   "cell_type": "code",
   "execution_count": null,
   "id": "385c53b8",
   "metadata": {},
   "outputs": [],
   "source": [
    "\n",
    "\n",
    "# Create a grid of coordinates for the 3D plot\n",
    "x, y = np.meshgrid(np.arange(len(intensity_ratio)), np.arange(len(intensity_ratio[0])))\n",
    "x = x.flatten()\n",
    "y = y.flatten()\n",
    "z = intensity_ratio.flatten()\n",
    "\n",
    "# Create a 3D plot\n",
    "fig = plt.figure()\n",
    "ax = fig.add_subplot(111, projection='3d')\n",
    "\n",
    "# Plot the 3D surface\n",
    "ax.bar3d(x, y, np.zeros_like(z), 1, 1, z, shade=True)\n",
    "\n",
    "# Set labels for the axes\n",
    "ax.set_xlabel('X-axis')\n",
    "ax.set_ylabel('Y-axis')\n",
    "ax.set_zlabel('Z-axis (Matrix Value)')\n",
    "\n",
    "# Show the plot\n",
    "plt.show()"
   ]
  },
  {
   "cell_type": "code",
   "execution_count": null,
   "id": "27da2439",
   "metadata": {
    "scrolled": true
   },
   "outputs": [],
   "source": [
    "total= 0\n",
    "#calculaate average min intensity\n",
    "\n",
    "for i in range(0, len(rgb_img)):\n",
    "    for j in range(0, len(rgb_img[0])):\n",
    "        total= total+ diffuse_chrom_min[i,j]\n",
    "        \n",
    "I_av_min= total/ ((len(rgb_img)* len(rgb_img[0])))\n",
    "\n",
    "I_psf= I_psf + I_av_min\n",
    "\n",
    "image= np.dstack((I_psf[:,:,0],I_psf[:,:,1],I_psf[:,:,2]))\n",
    "image=  cv.convertScaleAbs(image)\n",
    "\n",
    "plt.imshow(image)\n",
    "plt.title('pseudo specular free image')\n",
    "plt.figure()\n",
    "\n",
    "plt.imshow(rgb_img)\n",
    "plt.title('the original image')\n",
    "plt.figure()"
   ]
  },
  {
   "cell_type": "code",
   "execution_count": null,
   "id": "3731a01f",
   "metadata": {
    "scrolled": true
   },
   "outputs": [],
   "source": [
    "#diffuse chromaticity value\n",
    "diffuse_chrom_psf= np.zeros((len(rgb_img),len(rgb_img[0]),3))\n",
    "diffuse_chrom_psf_max= np.zeros((len(rgb_img),len(rgb_img[0])))\n",
    "diffuse_chrom_psf_min= np.zeros((len(rgb_img),len(rgb_img[0])))\n",
    "\n",
    "\n",
    "for i in range(0, len(rgb_img)):\n",
    "    for j in range(0, len(rgb_img[0])):\n",
    "        diffuse_chrom_psf[i,j,:]= I_psf[i,j,:] / (I_psf[i,j,0] +I_psf[i,j,1]+I_psf[i,j,2])\n",
    "        red= diffuse_chrom_psf[i,j,0]\n",
    "        green=diffuse_chrom_psf[i,j,1]\n",
    "        blue=diffuse_chrom_psf[i,j,2]\n",
    "        diffuse_chrom_psf_max[i,j]= max(red,green,blue)\n",
    "        diffuse_chrom_psf_min[i,j]= min(red,green,blue)\n",
    "        \n",
    "plt.imshow(diffuse_chrom_psf_max,cmap='gray')\n",
    "plt.title('diffuse_chrom_psf_max')\n",
    "plt.colorbar()\n",
    "plt.figure()\n",
    "\n",
    "plt.imshow(diffuse_chrom_psf_min,cmap='gray')\n",
    "plt.colorbar()\n",
    "plt.title('diffuse_chrom_psf_min')"
   ]
  },
  {
   "cell_type": "code",
   "execution_count": null,
   "id": "8aa0c095",
   "metadata": {
    "scrolled": true
   },
   "outputs": [],
   "source": [
    "#choosing pixels relevant to highlight removal\n",
    "#In this sense, background pixels \n",
    "#and pixels with an intensity value lower than the average minimum intensity\n",
    "#lmin are discarded from further computation since they probably do not contain a specular pixel.\n",
    "relevant_pixels= np.zeros((len(rgb_img),len(rgb_img[0])))\n",
    "\n",
    "        \n",
    "for i in range(0, len(rgb_img)):\n",
    "    for j in range(0, len(rgb_img[0])):\n",
    "        if (diffuse_chrom_min[i,j]> I_av_min) :\n",
    "            relevant_pixels[i,j] = 1\n",
    "            \n",
    "plt.imshow(relevant_pixels,cmap='gray')\n",
    "plt.colorbar()\n",
    "plt.title('relevant_pixels')"
   ]
  },
  {
   "cell_type": "code",
   "execution_count": null,
   "id": "0a6c1f05",
   "metadata": {
    "scrolled": true
   },
   "outputs": [],
   "source": [
    "x=[]\n",
    "y=[]\n",
    "for i in range(0, len(rgb_img)):\n",
    "    for j in range(0, len(rgb_img[0])):\n",
    "        if relevant_pixels[i,j] == 1:\n",
    "            x.append(i)\n",
    "            y.append(j)\n",
    "      \n",
    "plt.scatter(diffuse_chrom_min[x,y],diffuse_chrom_max[x,y], marker='+')\n",
    "plt.xlabel('minimum')\n",
    "plt.ylabel('max')\n",
    "plt.show()\n",
    "\n",
    "diffuse_chrom_psf_min_less= diffuse_chrom_psf_min[x,y]\n",
    "diffuse_chrom_psf_max_less =diffuse_chrom_psf_max[x,y]\n",
    "\n",
    "plt.scatter(diffuse_chrom_psf_min_less, diffuse_chrom_psf_max_less, marker='+')\n",
    "plt.title('fpsf min and max list')\n",
    "plt.xlabel('minimum')\n",
    "plt.ylabel('max')\n",
    "plt.show()"
   ]
  },
  {
   "cell_type": "code",
   "execution_count": null,
   "id": "34b906ba",
   "metadata": {},
   "outputs": [],
   "source": [
    "pseudo_chrom= np.zeros((len(diffuse_chrom_psf_min_less),2))\n",
    "\n",
    "\n",
    "for i in range(0, len(diffuse_chrom_psf_min_less)):\n",
    "            pseudo_chrom[i,0]=diffuse_chrom_psf_min_less[i]\n",
    "            pseudo_chrom[i,1]=diffuse_chrom_psf_max_less[i]\n",
    "        "
   ]
  },
  {
   "cell_type": "code",
   "execution_count": null,
   "id": "4a33e3bf",
   "metadata": {},
   "outputs": [],
   "source": [
    "# find the 3 initial centroids\n",
    "highest_minimum = float('-inf')\n",
    "coord1= (0,0)\n",
    "highest_maximum= float('-inf')\n",
    "coord2= (0,0)\n",
    "lowest_minimum= float('inf')\n",
    "coord3= (0,0)\n",
    "\n",
    "# Iterate through the matrix to find the highest y value\n",
    "for mini, maxi in pseudo_chrom:\n",
    "    if mini > highest_minimum:\n",
    "        highest_minimum = mini\n",
    "        coord1= (mini,maxi)\n",
    "    if mini < lowest_minimum:\n",
    "        lowest_minimum= mini\n",
    "        coord2= (mini,maxi)\n",
    "    if maxi > highest_maximum:\n",
    "        highest_maximum = maxi\n",
    "        coord3= (mini,maxi)\n",
    "        \n",
    "# Select random observation as centroids\n",
    "Centroids = (coord1, coord2,coord3 )\n",
    "print(Centroids)"
   ]
  },
  {
   "cell_type": "code",
   "execution_count": null,
   "id": "33a67e7d",
   "metadata": {},
   "outputs": [],
   "source": [
    "from sklearn.cluster import KMeans\n",
    "\n",
    "kmeans = KMeans(n_clusters=3, init=Centroids, n_init=1, random_state=42)\n",
    "\n",
    "# Fit the model to the data\n",
    "kmeans.fit(pseudo_chrom)\n",
    "\n",
    "# Get the final centroids and labels\n",
    "final_centroids = kmeans.cluster_centers_\n",
    "labels = kmeans.labels_\n"
   ]
  },
  {
   "cell_type": "code",
   "execution_count": null,
   "id": "3f255730",
   "metadata": {},
   "outputs": [],
   "source": [
    "K=3\n",
    "diff = 1\n",
    "j=0\n",
    "\n",
    "x= np.array((len(pseudo_chrom),3))\n",
    "while(diff!=0):\n",
    "    XD=pseudo_chrom\n",
    "    i=1\n",
    "    for pixel1 in Centroids:\n",
    "        ED=[]\n",
    "        for mini,maxi in XD:\n",
    "            d1=(pixel1[0]-mini)**2\n",
    "            d2=(pixel1[1]-maxi)**2\n",
    "            d=np.sqrt(d1+d2)\n",
    "            ED.append(d)\n",
    "        X[i]=ED\n",
    "        i=i+1\n",
    "\n",
    "    C=[]\n",
    "    for index,row in X.iterrows():\n",
    "        min_dist=row[1]\n",
    "        pos=1\n",
    "        for i in range(K):\n",
    "            if row[i+1] < min_dist:\n",
    "                min_dist = row[i+1]\n",
    "                pos=i+1\n",
    "        C.append(pos)\n",
    "    X[2]=C\n",
    "    Centroids_new = X.groupby([2]).mean()[[1,0]]\n",
    "    if j == 0:\n",
    "        diff=1\n",
    "        j=j+1\n",
    "    else:\n",
    "        diff = (Centroids_new[1] - Centroids[1]).sum() + (Centroids_new[0] - Centroids[0]).sum()\n",
    "        print(diff.sum())\n",
    "    Centroids = X.groupby([2]).mean()[[1,0]]\n",
    "    \n",
    "    \n",
    "color=['blue','green','cyan']\n",
    "for k in range(K):\n",
    "    data=X[X[2]==k+1]\n",
    "    plt.scatter(data[0],data[1],c=color[k])\n",
    "plt.scatter(Centroids[0],Centroids[1],c='red')\n",
    "plt.xlabel('minimum')\n",
    "plt.ylabel('maximum')\n",
    "plt.show()"
   ]
  }
 ],
 "metadata": {
  "kernelspec": {
   "display_name": "Python 3 (ipykernel)",
   "language": "python",
   "name": "python3"
  },
  "language_info": {
   "codemirror_mode": {
    "name": "ipython",
    "version": 3
   },
   "file_extension": ".py",
   "mimetype": "text/x-python",
   "name": "python",
   "nbconvert_exporter": "python",
   "pygments_lexer": "ipython3",
   "version": "3.9.7"
  }
 },
 "nbformat": 4,
 "nbformat_minor": 5
}
