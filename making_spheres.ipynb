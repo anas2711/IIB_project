{
 "cells": [
  {
   "cell_type": "code",
   "execution_count": 4,
   "metadata": {},
   "outputs": [
    {
     "data": {
      "image/png": "[encoded data removed]",
      "text/plain": [
       "<Figure size 600x600 with 1 Axes>"
      ]
     },
     "metadata": {},
     "output_type": "display_data"
    }
   ],
   "source": [
    "color= [1,0,0]\n",
    "\n",
    "#make sphere \n",
    "import numpy as np\n",
    "import matplotlib.pyplot as plt\n",
    "\n",
    "#make an image of a sphere of the given color, with shading based on the surface normal\n",
    "#color is a 3-element list of the RGB values of the color\n",
    "\n",
    "\n",
    "def make_sphere(color):\n",
    "    #make a sphere\n",
    "    theta, phi = np.mgrid[0:2*np.pi:100j, 0:np.pi:50j]\n",
    "    x = np.cos(theta)*np.sin(phi)\n",
    "    y = np.sin(theta)*np.sin(phi)\n",
    "    z = np.cos(phi)\n",
    "    #make a surface normal\n",
    "    nx = x\n",
    "    ny = y\n",
    "    nz = z\n",
    "    #make a light source\n",
    "    light = np.array([0,0,1])\n",
    "    light = light/np.linalg.norm(light)\n",
    "    #calculate the shading\n",
    "    shading = nx*light[0] + ny*light[1] + nz*light[2]\n",
    "    shading = np.maximum(shading, 0)\n",
    "    #make an image with the circle in the middle \n",
    "    #set size \n",
    "    plt.figure(figsize=[6,6])\n",
    "    #plot the sphere\n",
    "    plt.imshow(np.stack([color[0]*shading, color[1]*shading, color[2]*shading], axis=2), extent=[-1,1,-1,1])\n",
    "    plt.axis('off')\n",
    "    plt.show()\n",
    "    \n",
    "    #display \n",
    "\n",
    "\n",
    "\n",
    "    \n",
    "\n",
    "\n",
    "\n",
    "make_sphere(color)"
   ]
  }
 ],
 "metadata": {
  "kernelspec": {
   "display_name": "Python 3",
   "language": "python",
   "name": "python3"
  },
  "language_info": {
   "codemirror_mode": {
    "name": "ipython",
    "version": 3
   },
   "file_extension": ".py",
   "mimetype": "text/x-python",
   "name": "python",
   "nbconvert_exporter": "python",
   "pygments_lexer": "ipython3",
   "version": "undefined.undefined.undefined"
  }
 },
 "nbformat": 4,
 "nbformat_minor": 2
}
